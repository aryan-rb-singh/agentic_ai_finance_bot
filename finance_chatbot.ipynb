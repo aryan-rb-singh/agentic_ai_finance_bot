{
 "cells": [
  {
   "cell_type": "code",
   "execution_count": 7,
   "id": "f7be4ede",
   "metadata": {},
   "outputs": [
    {
     "data": {
      "text/plain": [
       "True"
      ]
     },
     "execution_count": 7,
     "metadata": {},
     "output_type": "execute_result"
    }
   ],
   "source": [
    "import os\n",
    "import re\n",
    "import json\n",
    "import time\n",
    "import argparse\n",
    "from typing import Dict, Any, List, Tuple, TypedDict\n",
    "\n",
    "from dotenv import load_dotenv\n",
    "load_dotenv()"
   ]
  },
  {
   "cell_type": "code",
   "execution_count": 8,
   "id": "f3739ad9",
   "metadata": {},
   "outputs": [],
   "source": [
    "import os\n",
    "os.environ[\"PPLX_API_KEY\"] = \"your_perplexity_api_key\"\n",
    "os.environ[\"ALPHA_VANTAGE_API_KEY\"] = \"your_alpha_vantage_api_key\"  # optional\n",
    "\n",
    "PPLX_API_KEY = \"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\"\n",
    "ALPHA_VANTAGE_API_KEY = \"Z20QYDTQWVJB2VJO\" "
   ]
  },
  {
   "cell_type": "code",
   "execution_count": 9,
   "id": "62708e28",
   "metadata": {},
   "outputs": [],
   "source": [
    "import yfinance as yf\n",
    "from alpha_vantage.foreignexchange import ForeignExchange\n",
    "\n",
    "# Stock price lookup\n",
    "def get_stock_price(symbol: str) -> str:\n",
    "    try:\n",
    "        stock = yf.Ticker(symbol)\n",
    "        price = stock.history(period=\"1d\")[\"Close\"].iloc[-1]\n",
    "        return f\"Current price of {symbol} is ${price:.2f}\"\n",
    "    except Exception as e:\n",
    "        return f\"Error fetching stock data: {str(e)}\"\n",
    "\n",
    "# Forex price lookup\n",
    "def get_forex_price(pair: str) -> str:\n",
    "    try:\n",
    "        fx = ForeignExchange(key=os.environ[\"ALPHA_VANTAGE_API_KEY\"])\n",
    "        data, _ = fx.get_currency_exchange_rate(from_currency=pair[:3], to_currency=pair[3:])\n",
    "        return f\"Exchange rate {pair[:3]}/{pair[3:]} is {data['5. Exchange Rate']}\"\n",
    "    except Exception as e:\n",
    "        return f\"Error fetching forex data: {str(e)}\"\n",
    "\n",
    "# Simple in-memory conversation storage\n",
    "conversation_memory = []\n",
    "def add_to_memory(role, content):\n",
    "    conversation_memory.append({\"role\": role, \"content\": content})\n"
   ]
  },
  {
   "cell_type": "code",
   "execution_count": null,
   "id": "37a97d47",
   "metadata": {},
   "outputs": [],
   "source": [
    "from openai import OpenAI\n",
    "\n",
    "client = OpenAI(api_key=os.environ[\"PPLX_API_KEY\"], base_url=\"https://api.perplexity.ai\")\n",
    "\n",
    "def phase1_chatbot():\n",
    "    print(\"🤖 Finance Chatbot (Phase 1) – type 'exit' to quit\")\n",
    "    while True:\n",
    "        user_input = input(\"You: \")\n",
    "        if user_input.lower() in [\"exit\", \"quit\"]:\n",
    "            break\n",
    "\n",
    "        # Tool calls\n",
    "        if user_input.upper().startswith(\"STOCK \"):\n",
    "            symbol = user_input.split()[1]\n",
    "            response = get_stock_price(symbol)\n",
    "        elif user_input.upper().startswith(\"FOREX \"):\n",
    "            pair = user_input.split()[1]\n",
    "            response = get_forex_price(pair)\n",
    "        else:\n",
    "            add_to_memory(\"user\", user_input)\n",
    "            completion = client.chat.completions.create(\n",
    "                model=\"perplexity-chat\",\n",
    "                messages=conversation_memory + [{\"role\": \"user\", \"content\": user_input}],\n",
    "                temperature=0.2\n",
    "            )\n",
    "            response = completion.choices[0].message.content\n",
    "            add_to_memory(\"assistant\", response)\n",
    "\n",
    "        print(f\"Bot: {response}\\n\")\n"
   ]
  },
  {
   "cell_type": "code",
   "execution_count": null,
   "id": "5af898da",
   "metadata": {},
   "outputs": [],
   "source": [
    "from langgraph.graph import StateGraph, END\n",
    "\n",
    "def phase2_agent():\n",
    "    def assistant_node(state):\n",
    "        query = state[\"query\"]\n",
    "        if query.upper().startswith(\"STOCK \"):\n",
    "            return {\"response\": get_stock_price(query.split()[1])}\n",
    "        elif query.upper().startswith(\"FOREX \"):\n",
    "            return {\"response\": get_forex_price(query.split()[1])}\n",
    "        else:\n",
    "            completion = client.chat.completions.create(\n",
    "                model=\"perplexity-chat\",\n",
    "                messages=[{\"role\": \"user\", \"content\": query}],\n",
    "                temperature=0.2\n",
    "            )\n",
    "            return {\"response\": completion.choices[0].message.content}\n",
    "\n",
    "    # Build LangGraph\n",
    "    builder = StateGraph(dict)\n",
    "    builder.add_node(\"assistant\", assistant_node)\n",
    "    builder.set_entry_point(\"assistant\")\n",
    "    builder.add_edge(\"assistant\", END)\n",
    "    graph = builder.compile()\n",
    "\n",
    "    print(\"🤖 Finance Agent (Phase 2) – type 'exit' to quit\")\n",
    "    while True:\n",
    "        user_input = input(\"You: \")\n",
    "        if user_input.lower() in [\"exit\", \"quit\"]:\n",
    "            break\n",
    "        result = graph.invoke({\"query\": user_input})\n",
    "        print(f\"Bot: {result['response']}\\n\")\n"
   ]
  },
  {
   "cell_type": "code",
   "execution_count": 12,
   "id": "9f132c89",
   "metadata": {},
   "outputs": [
    {
     "name": "stdout",
     "output_type": "stream",
     "text": [
      "🤖 Finance Chatbot (Phase 1) – type 'exit' to quit\n",
      "Bot: Exchange rate USD/INR is 87.48800000\n",
      "\n"
     ]
    },
    {
     "ename": "TypeError",
     "evalue": "Missing required arguments; Expected either ('messages' and 'model') or ('messages', 'model' and 'stream') arguments to be given",
     "output_type": "error",
     "traceback": [
      "\u001b[31m---------------------------------------------------------------------------\u001b[39m",
      "\u001b[31mTypeError\u001b[39m                                 Traceback (most recent call last)",
      "\u001b[36mCell\u001b[39m\u001b[36m \u001b[39m\u001b[32mIn[12]\u001b[39m\u001b[32m, line 4\u001b[39m\n\u001b[32m      1\u001b[39m MODE = \u001b[33m\"\u001b[39m\u001b[33mphase1\u001b[39m\u001b[33m\"\u001b[39m   \u001b[38;5;66;03m# change to \"phase2\" for LangGraph agent\u001b[39;00m\n\u001b[32m      3\u001b[39m \u001b[38;5;28;01mif\u001b[39;00m MODE == \u001b[33m\"\u001b[39m\u001b[33mphase1\u001b[39m\u001b[33m\"\u001b[39m:\n\u001b[32m----> \u001b[39m\u001b[32m4\u001b[39m     \u001b[43mphase1_chatbot\u001b[49m\u001b[43m(\u001b[49m\u001b[43m)\u001b[49m\n\u001b[32m      5\u001b[39m \u001b[38;5;28;01melif\u001b[39;00m MODE == \u001b[33m\"\u001b[39m\u001b[33mphase2\u001b[39m\u001b[33m\"\u001b[39m:\n\u001b[32m      6\u001b[39m     phase2_agent()\n",
      "\u001b[36mCell\u001b[39m\u001b[36m \u001b[39m\u001b[32mIn[10]\u001b[39m\u001b[32m, line 21\u001b[39m, in \u001b[36mphase1_chatbot\u001b[39m\u001b[34m()\u001b[39m\n\u001b[32m     19\u001b[39m \u001b[38;5;28;01melse\u001b[39;00m:\n\u001b[32m     20\u001b[39m     add_to_memory(\u001b[33m\"\u001b[39m\u001b[33muser\u001b[39m\u001b[33m\"\u001b[39m, user_input)\n\u001b[32m---> \u001b[39m\u001b[32m21\u001b[39m     completion = \u001b[43mclient\u001b[49m\u001b[43m.\u001b[49m\u001b[43mchat\u001b[49m\u001b[43m.\u001b[49m\u001b[43mcompletions\u001b[49m\u001b[43m.\u001b[49m\u001b[43mcreate\u001b[49m\u001b[43m(\u001b[49m\n\u001b[32m     22\u001b[39m \u001b[43m        \u001b[49m\u001b[43mmessages\u001b[49m\u001b[43m=\u001b[49m\u001b[43mconversation_memory\u001b[49m\u001b[43m \u001b[49m\u001b[43m+\u001b[49m\u001b[43m \u001b[49m\u001b[43m[\u001b[49m\u001b[43m{\u001b[49m\u001b[33;43m\"\u001b[39;49m\u001b[33;43mrole\u001b[39;49m\u001b[33;43m\"\u001b[39;49m\u001b[43m:\u001b[49m\u001b[43m \u001b[49m\u001b[33;43m\"\u001b[39;49m\u001b[33;43muser\u001b[39;49m\u001b[33;43m\"\u001b[39;49m\u001b[43m,\u001b[49m\u001b[43m \u001b[49m\u001b[33;43m\"\u001b[39;49m\u001b[33;43mcontent\u001b[39;49m\u001b[33;43m\"\u001b[39;49m\u001b[43m:\u001b[49m\u001b[43m \u001b[49m\u001b[43muser_input\u001b[49m\u001b[43m}\u001b[49m\u001b[43m]\u001b[49m\u001b[43m,\u001b[49m\n\u001b[32m     23\u001b[39m \u001b[43m        \u001b[49m\u001b[43mtemperature\u001b[49m\u001b[43m=\u001b[49m\u001b[32;43m0.2\u001b[39;49m\n\u001b[32m     24\u001b[39m \u001b[43m    \u001b[49m\u001b[43m)\u001b[49m\n\u001b[32m     25\u001b[39m     response = completion.choices[\u001b[32m0\u001b[39m].message.content\n\u001b[32m     26\u001b[39m     add_to_memory(\u001b[33m\"\u001b[39m\u001b[33massistant\u001b[39m\u001b[33m\"\u001b[39m, response)\n",
      "\u001b[36mFile \u001b[39m\u001b[32md:\\1.Data Science\\Agentic AI\\practise\\chat\\Lib\\site-packages\\openai\\_utils\\_utils.py:286\u001b[39m, in \u001b[36mrequired_args.<locals>.inner.<locals>.wrapper\u001b[39m\u001b[34m(*args, **kwargs)\u001b[39m\n\u001b[32m    284\u001b[39m         \u001b[38;5;28;01melse\u001b[39;00m:\n\u001b[32m    285\u001b[39m             msg = \u001b[33mf\u001b[39m\u001b[33m\"\u001b[39m\u001b[33mMissing required argument: \u001b[39m\u001b[38;5;132;01m{\u001b[39;00mquote(missing[\u001b[32m0\u001b[39m])\u001b[38;5;132;01m}\u001b[39;00m\u001b[33m\"\u001b[39m\n\u001b[32m--> \u001b[39m\u001b[32m286\u001b[39m     \u001b[38;5;28;01mraise\u001b[39;00m \u001b[38;5;167;01mTypeError\u001b[39;00m(msg)\n\u001b[32m    287\u001b[39m \u001b[38;5;28;01mreturn\u001b[39;00m func(*args, **kwargs)\n",
      "\u001b[31mTypeError\u001b[39m: Missing required arguments; Expected either ('messages' and 'model') or ('messages', 'model' and 'stream') arguments to be given"
     ]
    }
   ],
   "source": [
    "MODE = \"phase1\"   # change to \"phase2\" for LangGraph agent\n",
    "\n",
    "if MODE == \"phase1\":\n",
    "    phase1_chatbot()\n",
    "elif MODE == \"phase2\":\n",
    "    phase2_agent()\n"
   ]
  },
  {
   "cell_type": "code",
   "execution_count": null,
   "id": "1e86d4ea",
   "metadata": {},
   "outputs": [],
   "source": []
  },
  {
   "cell_type": "code",
   "execution_count": null,
   "id": "6ffdff20",
   "metadata": {},
   "outputs": [],
   "source": []
  },
  {
   "cell_type": "code",
   "execution_count": null,
   "id": "31c3b349",
   "metadata": {},
   "outputs": [],
   "source": []
  },
  {
   "cell_type": "code",
   "execution_count": null,
   "id": "800831d7",
   "metadata": {},
   "outputs": [],
   "source": []
  },
  {
   "cell_type": "code",
   "execution_count": null,
   "id": "16f0df0c",
   "metadata": {},
   "outputs": [],
   "source": []
  },
  {
   "cell_type": "code",
   "execution_count": null,
   "id": "a17dc0fc",
   "metadata": {},
   "outputs": [],
   "source": []
  },
  {
   "cell_type": "code",
   "execution_count": null,
   "id": "3970a514",
   "metadata": {},
   "outputs": [],
   "source": []
  }
 ],
 "metadata": {
  "kernelspec": {
   "display_name": "chat",
   "language": "python",
   "name": "python3"
  },
  "language_info": {
   "codemirror_mode": {
    "name": "ipython",
    "version": 3
   },
   "file_extension": ".py",
   "mimetype": "text/x-python",
   "name": "python",
   "nbconvert_exporter": "python",
   "pygments_lexer": "ipython3",
   "version": "3.13.5"
  }
 },
 "nbformat": 4,
 "nbformat_minor": 5
}
