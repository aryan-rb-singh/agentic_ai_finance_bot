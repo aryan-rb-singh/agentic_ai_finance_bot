# ======================================
# Agent-Based Conversational AI for Finance
# Phase 1: Simple Chatbot
# Phase 2: Finance Agent with Tools
# Phase 3: LSTM Stock Predictor
# ======================================

from langchain_perplexity import ChatPerplexity
import yfinance as yf
import requests
import numpy as np
import pandas as pd
from datetime import datetime, timedelta
from tensorflow.keras.models import Sequential
from tensorflow.keras.layers import LSTM, Dense
from sklearn.preprocessing import MinMaxScaler

# -------------------------------
# SETUP PERPLEXITY
# -------------------------------
api_key = "pplx-YOUR_KEY_HERE"
chat = ChatPerplexity(temperature=0, api_key=api_key)

# -------------------------------
# MEMORY MANAGEMENT
# -------------------------------
conversation_memory = []

def add_to_memory(role, text):
    conversation_memory.append({"role": role, "content": text})

def get_memory_context():
    context = ""
    for msg in conversation_memory:
        context += f"{msg['role'].capitalize()}: {msg['content']}\n"
    return context

# -------------------------------
# FINANCIAL TOOLS
# -------------------------------
def fetch_stock_price(ticker):
    try:
        stock = yf.Ticker(ticker)
        data = stock.history(period="1d")
        price = data['Close'].iloc[-1]
        return f"The latest closing price of {ticker} is ${price:.2f}"
    except Exception as e:
        return f"Error fetching stock data: {e}"

def fetch_forex_rate(from_currency, to_currency, api_key="YOUR_ALPHA_VANTAGE_KEY"):
    try:
        url = f"https://www.alphavantage.co/query?function=CURRENCY_EXCHANGE_RATE&from_currency={from_currency}&to_currency={to_currency}&apikey={api_key}"
        response = requests.get(url).json()
        rate = response["Realtime Currency Exchange Rate"]["5. Exchange Rate"]
        return f"Current exchange rate {from_currency}/{to_currency}: {rate}"
    except Exception as e:
        return f"Error fetching forex data: {e}"

# -------------------------------
# LIGHT LSTM STOCK PREDICTOR (PHASE 3)
# -------------------------------
def predict_stock_price_lstm(ticker):
    try:
        # Fetch 12 months of daily stock data
        end_date = datetime.today()
        start_date = end_date - timedelta(days=365)
        df = yf.download(ticker, start=start_date, end=end_date)

        if df.empty:
            return f"No data found for {ticker}."

        data = df[['Close']].values
        scaler = MinMaxScaler(feature_range=(0, 1))
        scaled_data = scaler.fit_transform(data)

        # Create training dataset (lookback = 60 days)
        X_train, y_train = [], []
        for i in range(60, len(scaled_data)):
            X_train.append(scaled_data[i-60:i, 0])
            y_train.append(scaled_data[i, 0])
        X_train, y_train = np.array(X_train), np.array(y_train)
        X_train = np.reshape(X_train, (X_train.shape[0], X_train.shape[1], 1))

        # Define a light LSTM model
        model = Sequential([
            LSTM(50, return_sequences=True, input_shape=(X_train.shape[1], 1)),
            LSTM(50),
            Dense(1)
        ])
        model.compile(optimizer="adam", loss="mean_squared_error")

        # Train briefly (small epochs to keep light)
        model.fit(X_train, y_train, epochs=5, batch_size=32, verbose=0)

        # Predict next day
        last_60 = scaled_data[-60:]
        X_test = np.reshape(last_60, (1, last_60.shape[0], 1))
        predicted_price = model.predict(X_test)
        predicted_price = scaler.inverse_transform(predicted_price)

        return f"Predicted next closing price for {ticker} is ${predicted_price[0][0]:.2f}"

    except Exception as e:
        return f"Error in LSTM prediction: {e}"

# -------------------------------
# PHASE 1 CHATBOT
# -------------------------------
def phase1_chatbot():
    print("🤖 Phase 1: Finance Chatbot – type 'exit' to quit")
    while True:
        user_input = input("Human: ")
        if user_input.lower() in ["exit", "quit"]:
            break

        print(f"Human: {user_input}")
        add_to_memory("user", user_input)

        context = get_memory_context()
        messages = [
            {"role": "system", "content": "You are a helpful financial assistant."},
            {"role": "user", "content": f"{context}\nUser: {user_input}"}
        ]
        response = chat.invoke(messages)
        add_to_memory("assistant", response.content)

        print(f"Bot: {response.content}\n")

# -------------------------------
# PHASE 2 CHATBOT WITH FINANCE TOOLS
# -------------------------------
def phase2_agent():
    print("🤖 Phase 2: Finance Agent – type 'exit' to quit")
    while True:
        user_input = input("Human: ")
        if user_input.lower() in ["exit", "quit"]:
            break

        print(f"Human: {user_input}")
        add_to_memory("user", user_input)
        response_text = None

        # Tool integration
        if "stock price" in user_input.lower():
            ticker = user_input.split()[-1].upper()
            response_text = fetch_stock_price(ticker)
        elif "forex rate" in user_input.lower():
            try:
                parts = user_input.split()
                from_curr, to_curr = parts[-2].upper(), parts[-1].upper()
                response_text = fetch_forex_rate(from_curr, to_curr)
            except:
                response_text = "Please provide forex query in format: 'forex rate USD EUR'"
        else:
            context = get_memory_context()
            messages = [
                {"role": "system", "content": "You are a helpful financial assistant."},
                {"role": "user", "content": f"{context}\nUser: {user_input}"}
            ]
            response_text = chat.invoke(messages).content

        add_to_memory("assistant", response_text)
        print(f"Bot: {response_text}\n")

# -------------------------------
# PHASE 3: CHATBOT WITH LSTM PREDICTOR
# -------------------------------
def phase3_lstm_agent():
    print("🤖 Phase 3: Finance Agent + LSTM Predictor – type 'exit' to quit")
    while True:
        user_input = input("Human: ")
        if user_input.lower() in ["exit", "quit"]:
            break

        print(f"Human: {user_input}")
        add_to_memory("user", user_input)
        response_text = None

        if "predict stock" in user_input.lower():
            ticker = user_input.split()[-1].upper()
            response_text = predict_stock_price_lstm(ticker)
        elif "stock price" in user_input.lower():
            ticker = user_input.split()[-1].upper()
            response_text = fetch_stock_price(ticker)
        elif "forex rate" in user_input.lower():
            try:
                parts = user_input.split()
                from_curr, to_curr = parts[-2].upper(), parts[-1].upper()
                response_text = fetch_forex_rate(from_curr, to_curr)
            except:
                response_text = "Please provide forex query in format: 'forex rate USD EUR'"
        else:
            context = get_memory_context()
            messages = [
                {"role": "system", "content": "You are a helpful financial assistant."},
                {"role": "user", "content": f"{context}\nUser: {user_input}"}
            ]
            response_text = chat.invoke(messages).content

        add_to_memory("assistant", response_text)
        print(f"Bot: {response_text}\n")

# -------------------------------
# SELECT MODE
# -------------------------------
MODE = "phase3"  # change to "phase1", "phase2", or "phase3"

if MODE == "phase1":
    phase1_chatbot()
elif MODE == "phase2":
    phase2_agent()
elif MODE == "phase3":
    phase3_lstm_agent()
